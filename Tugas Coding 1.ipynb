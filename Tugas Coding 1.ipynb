{
 "cells": [
  {
   "cell_type": "markdown",
   "id": "d7fb04b6-e453-4387-ae17-bb8c8573715e",
   "metadata": {},
   "source": [
    "# Tugas Coding 1"
   ]
  },
  {
   "cell_type": "markdown",
   "id": "f1ef369c-9b6d-422a-b6d6-479026e01157",
   "metadata": {},
   "source": [
    "Anggota kelompok : \n",
    "- Mutiara Diva Jaladitha (NRP: 5027241083)\n",
    "- Jofanka Al-Kautsar Pangestu Abady (NRP: 5027241107)\n",
    "- Muhammad Farrel Shaputra (NRP: 5027241110)\n",
    "\n",
    "Kelas : B"
   ]
  },
  {
   "cell_type": "markdown",
   "id": "4d06a985-d81a-455a-8df3-fb4ebb0705a0",
   "metadata": {},
   "source": [
    "Mata Kuliah : Statistika dan Probabilitas"
   ]
  },
  {
   "cell_type": "code",
   "execution_count": 7,
   "id": "0c113b32-9fa5-4218-8b34-a30d068f6def",
   "metadata": {},
   "outputs": [],
   "source": [
    "import pandas as pd\n",
    "import numpy as np\n",
    "import plotly.express as px\n",
    "import matplotlib.pyplot as plt"
   ]
  },
  {
   "cell_type": "markdown",
   "id": "31264781-9cd9-4a7f-a739-e988124b7d2c",
   "metadata": {},
   "source": [
    "## Dataset"
   ]
  },
  {
   "cell_type": "markdown",
   "id": "d129cd0d-0daf-4a68-ac47-2b041cae2c3b",
   "metadata": {},
   "source": [
    "Tabel Dataset.xlsx ditampilkan sebagai berikut."
   ]
  },
  {
   "cell_type": "code",
   "execution_count": 10,
   "id": "331bf34f-9228-4b2e-b659-c8155b46cff9",
   "metadata": {},
   "outputs": [
    {
     "data": {
      "text/html": [
       "<div>\n",
       "<style scoped>\n",
       "    .dataframe tbody tr th:only-of-type {\n",
       "        vertical-align: middle;\n",
       "    }\n",
       "\n",
       "    .dataframe tbody tr th {\n",
       "        vertical-align: top;\n",
       "    }\n",
       "\n",
       "    .dataframe thead th {\n",
       "        text-align: right;\n",
       "    }\n",
       "</style>\n",
       "<table border=\"1\" class=\"dataframe\">\n",
       "  <thead>\n",
       "    <tr style=\"text-align: right;\">\n",
       "      <th></th>\n",
       "      <th>Curah Hujan (mm)</th>\n",
       "      <th>Penjualan A (pcs)</th>\n",
       "      <th>Penjualan B (pcs)</th>\n",
       "    </tr>\n",
       "    <tr>\n",
       "      <th>Tanggal</th>\n",
       "      <th></th>\n",
       "      <th></th>\n",
       "      <th></th>\n",
       "    </tr>\n",
       "  </thead>\n",
       "  <tbody>\n",
       "    <tr>\n",
       "      <th>1</th>\n",
       "      <td>1.4</td>\n",
       "      <td>0</td>\n",
       "      <td>507</td>\n",
       "    </tr>\n",
       "    <tr>\n",
       "      <th>2</th>\n",
       "      <td>1.2</td>\n",
       "      <td>27</td>\n",
       "      <td>61</td>\n",
       "    </tr>\n",
       "    <tr>\n",
       "      <th>3</th>\n",
       "      <td>15.2</td>\n",
       "      <td>458</td>\n",
       "      <td>367</td>\n",
       "    </tr>\n",
       "    <tr>\n",
       "      <th>4</th>\n",
       "      <td>13.4</td>\n",
       "      <td>20</td>\n",
       "      <td>21</td>\n",
       "    </tr>\n",
       "    <tr>\n",
       "      <th>5</th>\n",
       "      <td>7.7</td>\n",
       "      <td>7</td>\n",
       "      <td>0</td>\n",
       "    </tr>\n",
       "    <tr>\n",
       "      <th>...</th>\n",
       "      <td>...</td>\n",
       "      <td>...</td>\n",
       "      <td>...</td>\n",
       "    </tr>\n",
       "    <tr>\n",
       "      <th>4</th>\n",
       "      <td>2.2</td>\n",
       "      <td>430</td>\n",
       "      <td>421</td>\n",
       "    </tr>\n",
       "    <tr>\n",
       "      <th>5</th>\n",
       "      <td>0.5</td>\n",
       "      <td>208</td>\n",
       "      <td>24</td>\n",
       "    </tr>\n",
       "    <tr>\n",
       "      <th>6</th>\n",
       "      <td>33.4</td>\n",
       "      <td>200</td>\n",
       "      <td>189</td>\n",
       "    </tr>\n",
       "    <tr>\n",
       "      <th>7</th>\n",
       "      <td>0.0</td>\n",
       "      <td>0</td>\n",
       "      <td>324</td>\n",
       "    </tr>\n",
       "    <tr>\n",
       "      <th>8</th>\n",
       "      <td>0.0</td>\n",
       "      <td>143</td>\n",
       "      <td>315</td>\n",
       "    </tr>\n",
       "  </tbody>\n",
       "</table>\n",
       "<p>121 rows × 3 columns</p>\n",
       "</div>"
      ],
      "text/plain": [
       "         Curah Hujan (mm)  Penjualan A (pcs)  Penjualan B (pcs)\n",
       "Tanggal                                                        \n",
       "1                     1.4                  0                507\n",
       "2                     1.2                 27                 61\n",
       "3                    15.2                458                367\n",
       "4                    13.4                 20                 21\n",
       "5                     7.7                  7                  0\n",
       "...                   ...                ...                ...\n",
       "4                     2.2                430                421\n",
       "5                     0.5                208                 24\n",
       "6                    33.4                200                189\n",
       "7                     0.0                  0                324\n",
       "8                     0.0                143                315\n",
       "\n",
       "[121 rows x 3 columns]"
      ]
     },
     "execution_count": 10,
     "metadata": {},
     "output_type": "execute_result"
    }
   ],
   "source": [
    "data = pd.read_excel(\"Dataset.xlsx\", header=0, index_col=0)\n",
    "data"
   ]
  },
  {
   "cell_type": "markdown",
   "id": "a14f74fc-ba3b-4277-aba8-6da04c4bf16e",
   "metadata": {},
   "source": [
    "## 1. Rata-Rata"
   ]
  },
  {
   "cell_type": "markdown",
   "id": "7c21c082-e941-4fa7-a06f-70dff9c9a820",
   "metadata": {},
   "source": [
    "Berikut merupakan data rata-rata dari Curah Hujan, Penjualan A, dan Penjualan B."
   ]
  },
  {
   "cell_type": "markdown",
   "id": "37f4e0ee-8561-4b20-92cb-8d28a3cf3c03",
   "metadata": {},
   "source": [
    "### Tabel"
   ]
  },
  {
   "cell_type": "code",
   "execution_count": 14,
   "id": "44d68ef4-16d9-45d7-a44a-2961d9280950",
   "metadata": {},
   "outputs": [
    {
     "data": {
      "text/html": [
       "<div>\n",
       "<style scoped>\n",
       "    .dataframe tbody tr th:only-of-type {\n",
       "        vertical-align: middle;\n",
       "    }\n",
       "\n",
       "    .dataframe tbody tr th {\n",
       "        vertical-align: top;\n",
       "    }\n",
       "\n",
       "    .dataframe thead th {\n",
       "        text-align: right;\n",
       "    }\n",
       "</style>\n",
       "<table border=\"1\" class=\"dataframe\">\n",
       "  <thead>\n",
       "    <tr style=\"text-align: right;\">\n",
       "      <th></th>\n",
       "      <th>Curah Hujan (mm)</th>\n",
       "      <th>Penjualan A (pcs)</th>\n",
       "      <th>Penjualan B (pcs)</th>\n",
       "    </tr>\n",
       "  </thead>\n",
       "  <tbody>\n",
       "    <tr>\n",
       "      <th>Mean</th>\n",
       "      <td>14.259504</td>\n",
       "      <td>131.834711</td>\n",
       "      <td>205.545455</td>\n",
       "    </tr>\n",
       "  </tbody>\n",
       "</table>\n",
       "</div>"
      ],
      "text/plain": [
       "      Curah Hujan (mm)  Penjualan A (pcs)  Penjualan B (pcs)\n",
       "Mean         14.259504         131.834711         205.545455"
      ]
     },
     "execution_count": 14,
     "metadata": {},
     "output_type": "execute_result"
    }
   ],
   "source": [
    "rata_rata = pd.DataFrame(data[['Curah Hujan (mm)','Penjualan A (pcs)','Penjualan B (pcs)']].mean(), columns = ['Mean'])\n",
    "rata_rata.transpose()"
   ]
  },
  {
   "cell_type": "markdown",
   "id": "62f3dc34-0e0d-48de-91fb-d14dff45623b",
   "metadata": {},
   "source": [
    "### Histogram"
   ]
  },
  {
   "cell_type": "code",
   "execution_count": 16,
   "id": "b75917ab-9fde-4bb0-b339-72d74539e0e6",
   "metadata": {},
   "outputs": [
    {
     "data": {
      "image/png": "[encoded data removed]",
      "text/plain": [
       "<Figure size 640x480 with 1 Axes>"
      ]
     },
     "metadata": {},
     "output_type": "display_data"
    }
   ],
   "source": [
    "rata_rata_a = rata_rata.plot(kind = 'bar')"
   ]
  },
  {
   "cell_type": "markdown",
   "id": "7c82cc20-f2c9-4e21-9b82-de1741cbd714",
   "metadata": {},
   "source": [
    "## 2. Median"
   ]
  },
  {
   "cell_type": "markdown",
   "id": "b57b6c36-09a1-4c59-b09c-0ad930fe7864",
   "metadata": {},
   "source": [
    "Median merupakan index yang berada pada pada tengah data."
   ]
  },
  {
   "cell_type": "markdown",
   "id": "af6ff811-47fd-4e31-a6d8-6dc54dfd4d02",
   "metadata": {},
   "source": [
    "### Tabel"
   ]
  },
  {
   "cell_type": "code",
   "execution_count": 21,
   "id": "fa605899-86b3-4ee5-bf4c-3c3182ef4d08",
   "metadata": {
    "scrolled": true
   },
   "outputs": [
    {
     "data": {
      "text/html": [
       "<div>\n",
       "<style scoped>\n",
       "    .dataframe tbody tr th:only-of-type {\n",
       "        vertical-align: middle;\n",
       "    }\n",
       "\n",
       "    .dataframe tbody tr th {\n",
       "        vertical-align: top;\n",
       "    }\n",
       "\n",
       "    .dataframe thead th {\n",
       "        text-align: right;\n",
       "    }\n",
       "</style>\n",
       "<table border=\"1\" class=\"dataframe\">\n",
       "  <thead>\n",
       "    <tr style=\"text-align: right;\">\n",
       "      <th></th>\n",
       "      <th>Curah Hujan (mm)</th>\n",
       "      <th>Penjualan A (pcs)</th>\n",
       "      <th>Penjualan B (pcs)</th>\n",
       "    </tr>\n",
       "  </thead>\n",
       "  <tbody>\n",
       "    <tr>\n",
       "      <th>Median</th>\n",
       "      <td>2.1</td>\n",
       "      <td>52.0</td>\n",
       "      <td>157.0</td>\n",
       "    </tr>\n",
       "  </tbody>\n",
       "</table>\n",
       "</div>"
      ],
      "text/plain": [
       "        Curah Hujan (mm)  Penjualan A (pcs)  Penjualan B (pcs)\n",
       "Median               2.1               52.0              157.0"
      ]
     },
     "execution_count": 21,
     "metadata": {},
     "output_type": "execute_result"
    }
   ],
   "source": [
    "import pandas as pd\n",
    "median = data[['Curah Hujan (mm)','Penjualan A (pcs)','Penjualan B (pcs)']].median()\n",
    "md = pd.DataFrame(data = median, columns = ['Median'])\n",
    "md.transpose()"
   ]
  },
  {
   "cell_type": "markdown",
   "id": "b85c612a-0137-46a4-aad0-e76efd5226a5",
   "metadata": {},
   "source": [
    "### Histogram"
   ]
  },
  {
   "cell_type": "code",
   "execution_count": 27,
   "id": "451caa56-a7ac-4fbb-bb07-02846c457ae2",
   "metadata": {},
   "outputs": [
    {
     "data": {
      "text/plain": [
       "<Axes: >"
      ]
     },
     "execution_count": 27,
     "metadata": {},
     "output_type": "execute_result"
    },
    {
     "data": {
      "image/png": "[encoded data removed]",
      "text/plain": [
       "<Figure size 640x480 with 1 Axes>"
      ]
     },
     "metadata": {},
     "output_type": "display_data"
    }
   ],
   "source": [
    "median = median.plot(kind = 'bar')\n",
    "median"
   ]
  },
  {
   "cell_type": "markdown",
   "id": "c7ed444d-4d7e-41d1-b7aa-77f0e7cae4bb",
   "metadata": {},
   "source": [
    "## 3. Modus"
   ]
  },
  {
   "cell_type": "markdown",
   "id": "ead7f289-fe16-4e3b-92ce-5d894912ffc7",
   "metadata": {},
   "source": [
    "Modus merupakan angka yang paling sering muncul dalam data."
   ]
  },
  {
   "cell_type": "markdown",
   "id": "695dc675-3210-4267-a806-7d218e99745e",
   "metadata": {},
   "source": [
    "### Tabel"
   ]
  },
  {
   "cell_type": "code",
   "execution_count": 32,
   "id": "f5d10073-3487-47b7-b7d4-d223b6887bbf",
   "metadata": {},
   "outputs": [
    {
     "data": {
      "text/html": [
       "<div>\n",
       "<style scoped>\n",
       "    .dataframe tbody tr th:only-of-type {\n",
       "        vertical-align: middle;\n",
       "    }\n",
       "\n",
       "    .dataframe tbody tr th {\n",
       "        vertical-align: top;\n",
       "    }\n",
       "\n",
       "    .dataframe thead th {\n",
       "        text-align: right;\n",
       "    }\n",
       "</style>\n",
       "<table border=\"1\" class=\"dataframe\">\n",
       "  <thead>\n",
       "    <tr style=\"text-align: right;\">\n",
       "      <th></th>\n",
       "      <th>Modus</th>\n",
       "    </tr>\n",
       "  </thead>\n",
       "  <tbody>\n",
       "    <tr>\n",
       "      <th>0</th>\n",
       "      <td>NaN</td>\n",
       "    </tr>\n",
       "  </tbody>\n",
       "</table>\n",
       "</div>"
      ],
      "text/plain": [
       "   Modus\n",
       "0    NaN"
      ]
     },
     "execution_count": 32,
     "metadata": {},
     "output_type": "execute_result"
    }
   ],
   "source": [
    "modus = data[['Curah Hujan (mm)','Penjualan A (pcs)','Penjualan B (pcs)']].mode()\n",
    "modus = pd.DataFrame(data = modus, columns = ['Modus'])\n",
    "modus"
   ]
  },
  {
   "cell_type": "markdown",
   "id": "901b89ad-8c6a-443a-8901-96a3356b50f3",
   "metadata": {},
   "source": [
    "### Histogram"
   ]
  },
  {
   "cell_type": "code",
   "execution_count": 35,
   "id": "85b4c984-84a7-4fba-8cfc-97e37a2531a4",
   "metadata": {},
   "outputs": [
    {
     "data": {
      "image/png": "[encoded data removed]",
      "text/plain": [
       "<Figure size 640x480 with 1 Axes>"
      ]
     },
     "metadata": {},
     "output_type": "display_data"
    }
   ],
   "source": [
    "ax = modus.plot(kind = 'bar')"
   ]
  },
  {
   "cell_type": "markdown",
   "id": "8cc9c40b-151b-4760-9944-76715f032487",
   "metadata": {},
   "source": [
    "Karena pada file \"Dataset.xlsx\" tidak mempunyai modus, maka data modus yang ditampilkan yaitu 0."
   ]
  },
  {
   "cell_type": "markdown",
   "id": "2fa823fb-68db-43da-8685-1defeb37654d",
   "metadata": {},
   "source": [
    "## 4. Range"
   ]
  },
  {
   "cell_type": "markdown",
   "id": "7263eced-94ef-4f9b-9887-c05bb940e389",
   "metadata": {},
   "source": [
    "Range merupakan selisih dari nilai tertinggi dan nilai terendah dalam suatu data."
   ]
  },
  {
   "cell_type": "markdown",
   "id": "e8644132-e0a2-48a8-8dc4-af7eaab08d99",
   "metadata": {},
   "source": [
    "### Tabel"
   ]
  },
  {
   "cell_type": "code",
   "execution_count": 41,
   "id": "25b8e1e4-ddc6-4018-a265-8091c856ffa3",
   "metadata": {},
   "outputs": [
    {
     "data": {
      "text/html": [
       "<div>\n",
       "<style scoped>\n",
       "    .dataframe tbody tr th:only-of-type {\n",
       "        vertical-align: middle;\n",
       "    }\n",
       "\n",
       "    .dataframe tbody tr th {\n",
       "        vertical-align: top;\n",
       "    }\n",
       "\n",
       "    .dataframe thead th {\n",
       "        text-align: right;\n",
       "    }\n",
       "</style>\n",
       "<table border=\"1\" class=\"dataframe\">\n",
       "  <thead>\n",
       "    <tr style=\"text-align: right;\">\n",
       "      <th></th>\n",
       "      <th>Curah Hujan (mm)</th>\n",
       "      <th>Penjualan A (pcs)</th>\n",
       "      <th>Penjualan B (pcs)</th>\n",
       "    </tr>\n",
       "  </thead>\n",
       "  <tbody>\n",
       "    <tr>\n",
       "      <th>Range</th>\n",
       "      <td>170.6</td>\n",
       "      <td>458.0</td>\n",
       "      <td>545.0</td>\n",
       "    </tr>\n",
       "  </tbody>\n",
       "</table>\n",
       "</div>"
      ],
      "text/plain": [
       "       Curah Hujan (mm)  Penjualan A (pcs)  Penjualan B (pcs)\n",
       "Range             170.6              458.0              545.0"
      ]
     },
     "execution_count": 41,
     "metadata": {},
     "output_type": "execute_result"
    }
   ],
   "source": [
    "import pandas as pd\n",
    "nilai_max = data[['Curah Hujan (mm)','Penjualan A (pcs)','Penjualan B (pcs)']].max()\n",
    "nilai_min = data[['Curah Hujan (mm)','Penjualan A (pcs)','Penjualan B (pcs)']].min()\n",
    "range = pd.DataFrame(nilai_max - nilai_min, columns = ['Range'])\n",
    "range.transpose()"
   ]
  },
  {
   "cell_type": "markdown",
   "id": "26267063-73fc-42e2-8364-d5f9788f6410",
   "metadata": {},
   "source": [
    "### Histogram"
   ]
  },
  {
   "cell_type": "code",
   "execution_count": 44,
   "id": "f6796af3-b743-41cf-8e6b-3dac759a33d8",
   "metadata": {},
   "outputs": [
    {
     "data": {
      "image/png": "[encoded data removed]",
      "text/plain": [
       "<Figure size 640x480 with 1 Axes>"
      ]
     },
     "metadata": {},
     "output_type": "display_data"
    }
   ],
   "source": [
    "ax = range.plot(kind = 'bar')"
   ]
  },
  {
   "cell_type": "markdown",
   "id": "23727134-953a-447e-94ef-70e67de25de7",
   "metadata": {},
   "source": [
    "## 5. IQR"
   ]
  },
  {
   "cell_type": "markdown",
   "id": "c048d0af-1d4e-4673-a13d-7c80e4a13f61",
   "metadata": {},
   "source": [
    "IQR merupakan jarak antara quartil 1 dan quartil 3 dalan suatu data."
   ]
  },
  {
   "cell_type": "markdown",
   "id": "a39c6388-64f2-49eb-b59f-10e66726783e",
   "metadata": {},
   "source": [
    "### Tabel"
   ]
  },
  {
   "cell_type": "code",
   "execution_count": 49,
   "id": "92dce794-d4b4-4fcd-b5bb-d37b4406c30e",
   "metadata": {},
   "outputs": [
    {
     "data": {
      "text/html": [
       "<div>\n",
       "<style scoped>\n",
       "    .dataframe tbody tr th:only-of-type {\n",
       "        vertical-align: middle;\n",
       "    }\n",
       "\n",
       "    .dataframe tbody tr th {\n",
       "        vertical-align: top;\n",
       "    }\n",
       "\n",
       "    .dataframe thead th {\n",
       "        text-align: right;\n",
       "    }\n",
       "</style>\n",
       "<table border=\"1\" class=\"dataframe\">\n",
       "  <thead>\n",
       "    <tr style=\"text-align: right;\">\n",
       "      <th></th>\n",
       "      <th>Curah Hujan (mm)</th>\n",
       "      <th>Penjualan A (pcs)</th>\n",
       "      <th>Penjualan B (pcs)</th>\n",
       "    </tr>\n",
       "  </thead>\n",
       "  <tbody>\n",
       "    <tr>\n",
       "      <th>IQR</th>\n",
       "      <td>16.4</td>\n",
       "      <td>233.0</td>\n",
       "      <td>244.0</td>\n",
       "    </tr>\n",
       "  </tbody>\n",
       "</table>\n",
       "</div>"
      ],
      "text/plain": [
       "     Curah Hujan (mm)  Penjualan A (pcs)  Penjualan B (pcs)\n",
       "IQR              16.4              233.0              244.0"
      ]
     },
     "execution_count": 49,
     "metadata": {},
     "output_type": "execute_result"
    }
   ],
   "source": [
    "quantile1 = data[['Curah Hujan (mm)','Penjualan A (pcs)','Penjualan B (pcs)']].quantile(0.25)\n",
    "quantile3 = data[['Curah Hujan (mm)','Penjualan A (pcs)','Penjualan B (pcs)']].quantile(0.75)\n",
    "iqr = pd.DataFrame(quantile3 - quantile1, columns = ['IQR'])\n",
    "iqr.transpose()"
   ]
  },
  {
   "cell_type": "markdown",
   "id": "ce169613-6ea0-4eed-babb-5c96d22be721",
   "metadata": {},
   "source": [
    "### Histogram"
   ]
  },
  {
   "cell_type": "code",
   "execution_count": 52,
   "id": "a3b3fae6-75be-4df0-b070-942aa893d351",
   "metadata": {},
   "outputs": [
    {
     "data": {
      "image/png": "[encoded data removed]",
      "text/plain": [
       "<Figure size 640x480 with 1 Axes>"
      ]
     },
     "metadata": {},
     "output_type": "display_data"
    }
   ],
   "source": [
    "ax = iqr.plot(kind = 'bar')"
   ]
  },
  {
   "cell_type": "markdown",
   "id": "5f2807f4-24fc-4399-b2a8-c9d2c1d9d87a",
   "metadata": {},
   "source": [
    "## 6. Standar Deviasi"
   ]
  },
  {
   "cell_type": "markdown",
   "id": "d51d0d7a-3bf8-4504-94f0-9372a2c26ee7",
   "metadata": {},
   "source": [
    "Standar deviasi merupakan suatu data yang menunjukkan sejauh mana (akar dari) data tersebar dari nilai rata-rata. Deviasi standar merupakan akar kuadrat dari varian."
   ]
  },
  {
   "cell_type": "markdown",
   "id": "50ccbadf-531b-4151-9449-2b62273a557f",
   "metadata": {},
   "source": [
    "### Tabel"
   ]
  },
  {
   "cell_type": "code",
   "execution_count": 57,
   "id": "360df688-74c5-4680-bb7b-9b477a40c9bf",
   "metadata": {},
   "outputs": [
    {
     "data": {
      "text/html": [
       "<div>\n",
       "<style scoped>\n",
       "    .dataframe tbody tr th:only-of-type {\n",
       "        vertical-align: middle;\n",
       "    }\n",
       "\n",
       "    .dataframe tbody tr th {\n",
       "        vertical-align: top;\n",
       "    }\n",
       "\n",
       "    .dataframe thead th {\n",
       "        text-align: right;\n",
       "    }\n",
       "</style>\n",
       "<table border=\"1\" class=\"dataframe\">\n",
       "  <thead>\n",
       "    <tr style=\"text-align: right;\">\n",
       "      <th></th>\n",
       "      <th>Curah Hujan (mm)</th>\n",
       "      <th>Penjualan A (pcs)</th>\n",
       "      <th>Penjualan B (pcs)</th>\n",
       "    </tr>\n",
       "  </thead>\n",
       "  <tbody>\n",
       "    <tr>\n",
       "      <th>Standar Deviasi</th>\n",
       "      <td>27.540254</td>\n",
       "      <td>141.596866</td>\n",
       "      <td>160.085134</td>\n",
       "    </tr>\n",
       "  </tbody>\n",
       "</table>\n",
       "</div>"
      ],
      "text/plain": [
       "                 Curah Hujan (mm)  Penjualan A (pcs)  Penjualan B (pcs)\n",
       "Standar Deviasi         27.540254         141.596866         160.085134"
      ]
     },
     "execution_count": 57,
     "metadata": {},
     "output_type": "execute_result"
    }
   ],
   "source": [
    "std = pd.DataFrame(data[['Curah Hujan (mm)','Penjualan A (pcs)','Penjualan B (pcs)']].std(), columns = ['Standar Deviasi'])\n",
    "std.transpose()"
   ]
  },
  {
   "cell_type": "markdown",
   "id": "d9ed609a-0622-4326-8e91-49b8073c0baf",
   "metadata": {},
   "source": [
    "### Histogram"
   ]
  },
  {
   "cell_type": "code",
   "execution_count": 60,
   "id": "72a9c1a3-af67-4c0c-a81a-6b2f4b8feef5",
   "metadata": {},
   "outputs": [
    {
     "data": {
      "image/png": "[encoded data removed]",
      "text/plain": [
       "<Figure size 640x480 with 1 Axes>"
      ]
     },
     "metadata": {},
     "output_type": "display_data"
    }
   ],
   "source": [
    "ax = std.plot(kind = 'bar')"
   ]
  },
  {
   "cell_type": "markdown",
   "id": "38af4ea9-4bd4-42c6-8364-fa7fea2c4df1",
   "metadata": {},
   "source": [
    "## 7. Varian"
   ]
  },
  {
   "cell_type": "markdown",
   "id": "67252e47-4ec5-4301-8bcb-b2592cfd50d5",
   "metadata": {},
   "source": [
    "varian merupakan data yang bertujuan untuk mengetahui penyebaran data terhadap nilai rata-rata."
   ]
  },
  {
   "cell_type": "markdown",
   "id": "0afc9abb-9282-4a34-bfa1-69de141d0d5c",
   "metadata": {},
   "source": [
    "### Tabel"
   ]
  },
  {
   "cell_type": "code",
   "execution_count": 65,
   "id": "97108bab-ebae-4225-8012-28645f3a8232",
   "metadata": {},
   "outputs": [
    {
     "data": {
      "text/html": [
       "<div>\n",
       "<style scoped>\n",
       "    .dataframe tbody tr th:only-of-type {\n",
       "        vertical-align: middle;\n",
       "    }\n",
       "\n",
       "    .dataframe tbody tr th {\n",
       "        vertical-align: top;\n",
       "    }\n",
       "\n",
       "    .dataframe thead th {\n",
       "        text-align: right;\n",
       "    }\n",
       "</style>\n",
       "<table border=\"1\" class=\"dataframe\">\n",
       "  <thead>\n",
       "    <tr style=\"text-align: right;\">\n",
       "      <th></th>\n",
       "      <th>Curah Hujan (mm)</th>\n",
       "      <th>Penjualan A (pcs)</th>\n",
       "      <th>Penjualan B (pcs)</th>\n",
       "    </tr>\n",
       "  </thead>\n",
       "  <tbody>\n",
       "    <tr>\n",
       "      <th>Varian</th>\n",
       "      <td>758.465596</td>\n",
       "      <td>20049.672452</td>\n",
       "      <td>25627.25</td>\n",
       "    </tr>\n",
       "  </tbody>\n",
       "</table>\n",
       "</div>"
      ],
      "text/plain": [
       "        Curah Hujan (mm)  Penjualan A (pcs)  Penjualan B (pcs)\n",
       "Varian        758.465596       20049.672452           25627.25"
      ]
     },
     "execution_count": 65,
     "metadata": {},
     "output_type": "execute_result"
    }
   ],
   "source": [
    "var = pd.DataFrame(data[['Curah Hujan (mm)','Penjualan A (pcs)','Penjualan B (pcs)']].var(), columns = ['Varian'])\n",
    "var.transpose()"
   ]
  },
  {
   "cell_type": "markdown",
   "id": "eeb19b6c-4985-4fda-9e49-99a27fbf6ee6",
   "metadata": {},
   "source": [
    "### Histogram"
   ]
  },
  {
   "cell_type": "code",
   "execution_count": 68,
   "id": "61c7a0e7-dd3b-41c6-9aff-c897aa2812d9",
   "metadata": {},
   "outputs": [
    {
     "data": {
      "image/png": "[encoded data removed]",
      "text/plain": [
       "<Figure size 640x480 with 1 Axes>"
      ]
     },
     "metadata": {},
     "output_type": "display_data"
    }
   ],
   "source": [
    "ax = var.plot(kind = 'bar')"
   ]
  },
  {
   "cell_type": "markdown",
   "id": "478c5f64-d818-401c-aecf-5820907a566a",
   "metadata": {},
   "source": [
    "## 8. Skewness"
   ]
  },
  {
   "cell_type": "markdown",
   "id": "cd80a3da-807e-4a82-a389-4bd53d130616",
   "metadata": {},
   "source": [
    "Skewness adalah ukuran asimeteri dari distribusi simetris. Skewness digunakan untuk menggambarkan distribusi data, apakah distribusi data akan tepat di tengah, miring ke kiri, atau miring ke kanan."
   ]
  },
  {
   "cell_type": "markdown",
   "id": "4dd840be-518b-49c5-b678-bc41643cab65",
   "metadata": {},
   "source": [
    "### Tabel"
   ]
  },
  {
   "cell_type": "code",
   "execution_count": 73,
   "id": "eec6d74e-aaf2-4a32-ac1c-713601f72552",
   "metadata": {},
   "outputs": [
    {
     "data": {
      "text/html": [
       "<div>\n",
       "<style scoped>\n",
       "    .dataframe tbody tr th:only-of-type {\n",
       "        vertical-align: middle;\n",
       "    }\n",
       "\n",
       "    .dataframe tbody tr th {\n",
       "        vertical-align: top;\n",
       "    }\n",
       "\n",
       "    .dataframe thead th {\n",
       "        text-align: right;\n",
       "    }\n",
       "</style>\n",
       "<table border=\"1\" class=\"dataframe\">\n",
       "  <thead>\n",
       "    <tr style=\"text-align: right;\">\n",
       "      <th></th>\n",
       "      <th>Curah Hujan (mm)</th>\n",
       "      <th>Penjualan A (pcs)</th>\n",
       "      <th>Penjualan B (pcs)</th>\n",
       "    </tr>\n",
       "  </thead>\n",
       "  <tbody>\n",
       "    <tr>\n",
       "      <th>Skewness</th>\n",
       "      <td>3.635598</td>\n",
       "      <td>0.708652</td>\n",
       "      <td>0.601558</td>\n",
       "    </tr>\n",
       "  </tbody>\n",
       "</table>\n",
       "</div>"
      ],
      "text/plain": [
       "          Curah Hujan (mm)  Penjualan A (pcs)  Penjualan B (pcs)\n",
       "Skewness          3.635598           0.708652           0.601558"
      ]
     },
     "execution_count": 73,
     "metadata": {},
     "output_type": "execute_result"
    }
   ],
   "source": [
    "skew = pd.DataFrame(data[['Curah Hujan (mm)','Penjualan A (pcs)','Penjualan B (pcs)']].skew(), columns = ['Skewness'])\n",
    "skew.transpose()"
   ]
  },
  {
   "cell_type": "markdown",
   "id": "34a2994d-92e4-482c-90b2-9e5d886b4e68",
   "metadata": {},
   "source": [
    "### Histogram"
   ]
  },
  {
   "cell_type": "code",
   "execution_count": 76,
   "id": "dbbb2930-3ee0-4cf1-81cf-3faf8c2b4dcc",
   "metadata": {},
   "outputs": [
    {
     "data": {
      "image/png": "[encoded data removed]",
      "text/plain": [
       "<Figure size 640x480 with 1 Axes>"
      ]
     },
     "metadata": {},
     "output_type": "display_data"
    }
   ],
   "source": [
    "ax = skew.plot(kind = 'bar')"
   ]
  },
  {
   "cell_type": "markdown",
   "id": "031a25db-4d0f-439c-b3a3-f9926cf8a996",
   "metadata": {},
   "source": [
    "## 9. Kurtosis"
   ]
  },
  {
   "cell_type": "markdown",
   "id": "de15d5b7-f899-4767-abaf-86291c6254af",
   "metadata": {},
   "source": [
    "Kurtosis adalah suatu distribusi data yang bertujuan untuk mengukur seberapa banyak data yang berpusat di sekitar rata-rata dibandingkan dengan bagian ujung data."
   ]
  },
  {
   "cell_type": "markdown",
   "id": "6acacaf0-9df2-4ecd-af55-a1d2985bdd62",
   "metadata": {},
   "source": [
    "### Tabel"
   ]
  },
  {
   "cell_type": "code",
   "execution_count": 81,
   "id": "73d4776c-a1ce-43c0-8e19-544bc6023d15",
   "metadata": {},
   "outputs": [
    {
     "data": {
      "text/html": [
       "<div>\n",
       "<style scoped>\n",
       "    .dataframe tbody tr th:only-of-type {\n",
       "        vertical-align: middle;\n",
       "    }\n",
       "\n",
       "    .dataframe tbody tr th {\n",
       "        vertical-align: top;\n",
       "    }\n",
       "\n",
       "    .dataframe thead th {\n",
       "        text-align: right;\n",
       "    }\n",
       "</style>\n",
       "<table border=\"1\" class=\"dataframe\">\n",
       "  <thead>\n",
       "    <tr style=\"text-align: right;\">\n",
       "      <th></th>\n",
       "      <th>Curah Hujan (mm)</th>\n",
       "      <th>Penjualan A (pcs)</th>\n",
       "      <th>Penjualan B (pcs)</th>\n",
       "    </tr>\n",
       "  </thead>\n",
       "  <tbody>\n",
       "    <tr>\n",
       "      <th>Kurtosis</th>\n",
       "      <td>16.575639</td>\n",
       "      <td>-0.856078</td>\n",
       "      <td>-0.815513</td>\n",
       "    </tr>\n",
       "  </tbody>\n",
       "</table>\n",
       "</div>"
      ],
      "text/plain": [
       "          Curah Hujan (mm)  Penjualan A (pcs)  Penjualan B (pcs)\n",
       "Kurtosis         16.575639          -0.856078          -0.815513"
      ]
     },
     "execution_count": 81,
     "metadata": {},
     "output_type": "execute_result"
    }
   ],
   "source": [
    "kurtosis = pd.DataFrame(data[['Curah Hujan (mm)','Penjualan A (pcs)','Penjualan B (pcs)']].kurtosis(), columns = ['Kurtosis'])\n",
    "kurtosis.transpose()"
   ]
  },
  {
   "cell_type": "markdown",
   "id": "ced45f2b-6450-49ff-9dd3-41d694c6def1",
   "metadata": {},
   "source": [
    "### Histogram"
   ]
  },
  {
   "cell_type": "code",
   "execution_count": 84,
   "id": "22b0c652-7430-4c81-84ff-75f43a40c58e",
   "metadata": {},
   "outputs": [
    {
     "data": {
      "image/png": "[encoded data removed]",
      "text/plain": [
       "<Figure size 640x480 with 1 Axes>"
      ]
     },
     "metadata": {},
     "output_type": "display_data"
    }
   ],
   "source": [
    "ax = kurtosis.plot(kind = 'bar')"
   ]
  },
  {
   "cell_type": "markdown",
   "id": "b50d3961-0fe0-4846-81c5-f6cc0d2c92c9",
   "metadata": {},
   "source": [
    "## Tabel Distribusi Frekuensi"
   ]
  },
  {
   "cell_type": "code",
   "execution_count": 87,
   "id": "69b21377-b66d-4e73-b65d-1fd0fb34e16b",
   "metadata": {
    "scrolled": true
   },
   "outputs": [
    {
     "data": {
      "text/html": [
       "<div>\n",
       "<style scoped>\n",
       "    .dataframe tbody tr th:only-of-type {\n",
       "        vertical-align: middle;\n",
       "    }\n",
       "\n",
       "    .dataframe tbody tr th {\n",
       "        vertical-align: top;\n",
       "    }\n",
       "\n",
       "    .dataframe thead th {\n",
       "        text-align: right;\n",
       "    }\n",
       "</style>\n",
       "<table border=\"1\" class=\"dataframe\">\n",
       "  <thead>\n",
       "    <tr style=\"text-align: right;\">\n",
       "      <th></th>\n",
       "      <th>Mean</th>\n",
       "      <th>Median</th>\n",
       "      <th>Modus</th>\n",
       "      <th>Range</th>\n",
       "      <th>IQR</th>\n",
       "      <th>Standar Deviasi</th>\n",
       "      <th>Varian</th>\n",
       "      <th>Skewness</th>\n",
       "      <th>Kurtosis</th>\n",
       "    </tr>\n",
       "  </thead>\n",
       "  <tbody>\n",
       "    <tr>\n",
       "      <th>Curah Hujan (mm)</th>\n",
       "      <td>14.259504</td>\n",
       "      <td>2.1</td>\n",
       "      <td>NaN</td>\n",
       "      <td>170.6</td>\n",
       "      <td>16.4</td>\n",
       "      <td>27.540254</td>\n",
       "      <td>758.465596</td>\n",
       "      <td>3.635598</td>\n",
       "      <td>16.575639</td>\n",
       "    </tr>\n",
       "    <tr>\n",
       "      <th>Penjualan A (pcs)</th>\n",
       "      <td>131.834711</td>\n",
       "      <td>52.0</td>\n",
       "      <td>NaN</td>\n",
       "      <td>458.0</td>\n",
       "      <td>233.0</td>\n",
       "      <td>141.596866</td>\n",
       "      <td>20049.672452</td>\n",
       "      <td>0.708652</td>\n",
       "      <td>-0.856078</td>\n",
       "    </tr>\n",
       "    <tr>\n",
       "      <th>Penjualan B (pcs)</th>\n",
       "      <td>205.545455</td>\n",
       "      <td>157.0</td>\n",
       "      <td>NaN</td>\n",
       "      <td>545.0</td>\n",
       "      <td>244.0</td>\n",
       "      <td>160.085134</td>\n",
       "      <td>25627.250000</td>\n",
       "      <td>0.601558</td>\n",
       "      <td>-0.815513</td>\n",
       "    </tr>\n",
       "  </tbody>\n",
       "</table>\n",
       "</div>"
      ],
      "text/plain": [
       "                         Mean  Median  Modus  Range    IQR  Standar Deviasi  \\\n",
       "Curah Hujan (mm)    14.259504     2.1    NaN  170.6   16.4        27.540254   \n",
       "Penjualan A (pcs)  131.834711    52.0    NaN  458.0  233.0       141.596866   \n",
       "Penjualan B (pcs)  205.545455   157.0    NaN  545.0  244.0       160.085134   \n",
       "\n",
       "                         Varian  Skewness   Kurtosis  \n",
       "Curah Hujan (mm)     758.465596  3.635598  16.575639  \n",
       "Penjualan A (pcs)  20049.672452  0.708652  -0.856078  \n",
       "Penjualan B (pcs)  25627.250000  0.601558  -0.815513  "
      ]
     },
     "execution_count": 87,
     "metadata": {},
     "output_type": "execute_result"
    }
   ],
   "source": [
    "import pandas\n",
    "import matplotlib.pyplot as plt\n",
    "\n",
    "total = pd.concat([rata_rata,md,modus,range,iqr,std,var,skew,kurtosis], axis = 1)\n",
    "total.drop(total.index[3])"
   ]
  },
  {
   "cell_type": "markdown",
   "id": "bd916923-2fa0-40d8-bac8-95a7ef339956",
   "metadata": {},
   "source": [
    "## Boxplot"
   ]
  },
  {
   "cell_type": "markdown",
   "id": "5dbfa8f3-0826-441a-90e4-715165c41152",
   "metadata": {},
   "source": [
    "Boxplot adalah sebuah grafik yang meringkas distribusi data. Boxplot memuat data outlier bawah, nilai minimum, nilai quartil 1, nilai median, nilai quartil 3, nilai maksimum, dan outlier atas. Boxplot bertujuan untuk menunjukkan distribusi nilai dengan lebih ringkas, sehingga boxplot dapat digunakan untuk membandingkan data antara beberapa kelompok.\n",
    "\n",
    "Perbedaan antara boxplot dan histogram sebagai berikut:\n",
    "1. Boxplot hanya membutuhkan sedikit ruang untuk menampilkan data, sedangkan histogram menunjukkan data dengan lebih rinci\n",
    "2. Boxplot digunakan untuk membandingkan nilai beberapa kelompok data, sedangkan histogram digunakan untuk menggambarkan data secara keseluruhan"
   ]
  },
  {
   "cell_type": "code",
   "execution_count": 91,
   "id": "f9d2e097-b10b-4e89-8813-394db0fc0de6",
   "metadata": {},
   "outputs": [
    {
     "data": {
      "text/plain": [
       "<Axes: >"
      ]
     },
     "execution_count": 91,
     "metadata": {},
     "output_type": "execute_result"
    },
    {
     "data": {
      "image/png": "[encoded data removed]",
      "text/plain": [
       "<Figure size 640x480 with 1 Axes>"
      ]
     },
     "metadata": {},
     "output_type": "display_data"
    }
   ],
   "source": [
    "data.plot(kind='box')"
   ]
  },
  {
   "cell_type": "markdown",
   "id": "11af5d0c-7e72-4e0d-8b7d-2004341b049a",
   "metadata": {},
   "source": [
    "## Poligon Frekuensi"
   ]
  },
  {
   "cell_type": "markdown",
   "id": "1e675be8-0d56-458f-8799-1bf6ac773c87",
   "metadata": {},
   "source": [
    "Data poligon frekuensi ditampilkan sebagai berikut."
   ]
  },
  {
   "cell_type": "markdown",
   "id": "ecfd7d47-1387-462a-9c5d-697fa28b8fb3",
   "metadata": {},
   "source": [
    "### A. Curah Hujan (mm)"
   ]
  },
  {
   "cell_type": "code",
   "execution_count": 107,
   "id": "b9027269-e36d-4ded-a7db-fc4b33b0ede5",
   "metadata": {},
   "outputs": [
    {
     "name": "stdout",
     "output_type": "stream",
     "text": [
      "[ 12.18571429  36.55714286  60.92857143  85.3        109.67142857\n",
      " 134.04285714 158.41428571]\n"
     ]
    },
    {
     "name": "stderr",
     "output_type": "stream",
     "text": [
      "C:\\Users\\jofan\\AppData\\Local\\Temp\\ipykernel_17292\\611547322.py:6: FutureWarning: Calling float on a single element Series is deprecated and will raise a TypeError in the future. Use float(ser.iloc[0]) instead\n",
      "  banyak_kelas = 1 + 3.3 * math.log (range)\n"
     ]
    },
    {
     "data": {
      "image/png": "[encoded data removed]",
      "text/plain": [
       "<Figure size 640x480 with 1 Axes>"
      ]
     },
     "metadata": {},
     "output_type": "display_data"
    }
   ],
   "source": [
    "import math\n",
    "nilai_max = data[['Curah Hujan (mm)']].max()\n",
    "nilai_min = data[['Curah Hujan (mm)']].min()\n",
    "range = nilai_max - nilai_min\n",
    "\n",
    "banyak_kelas = 1 + 3.3 * math.log (range)\n",
    "banyak_kelas = math.ceil(banyak_kelas)\n",
    "\n",
    "panjang_kelas = len(data[['Curah Hujan (mm)']]) / banyak_kelas\n",
    "panjang_kelas = math.ceil(panjang_kelas)\n",
    "\n",
    "x,y,temp = plt.hist(data[['Curah Hujan (mm)']],bins = int(panjang_kelas), color='white')\n",
    "mid = 0.5*(y[1:]+y[:-1])\n",
    "plt.plot(mid,x,'.-')\n",
    "print(mid)\n",
    "# plt.ylabel(\"Frekuensi\")\n",
    "# plt.xlabel(\"Curah Hujan (mm)\")\n",
    "# plt.hist"
   ]
  },
  {
   "cell_type": "markdown",
   "id": "de2b1ecb-3a8c-45e8-b381-102390bfafec",
   "metadata": {},
   "source": [
    "### B. Penjualan A (pcs)"
   ]
  },
  {
   "cell_type": "code",
   "execution_count": 99,
   "id": "9214842a-849a-4f69-b3c0-e4d3b7ffaa5d",
   "metadata": {},
   "outputs": [
    {
     "name": "stdout",
     "output_type": "stream",
     "text": [
      "[ 38.16666667 114.5        190.83333333 267.16666667 343.5\n",
      " 419.83333333]\n"
     ]
    },
    {
     "name": "stderr",
     "output_type": "stream",
     "text": [
      "C:\\Users\\jofan\\AppData\\Local\\Temp\\ipykernel_17292\\3383358437.py:6: FutureWarning: Calling float on a single element Series is deprecated and will raise a TypeError in the future. Use float(ser.iloc[0]) instead\n",
      "  banyak_kelas = 1 + 3.3 * math.log (range)\n"
     ]
    },
    {
     "data": {
      "text/plain": [
       "Text(0.5, 0, 'Penjualan A (pcs)')"
      ]
     },
     "execution_count": 99,
     "metadata": {},
     "output_type": "execute_result"
    },
    {
     "data": {
      "image/png": "[encoded data removed]",
      "text/plain": [
       "<Figure size 640x480 with 1 Axes>"
      ]
     },
     "metadata": {},
     "output_type": "display_data"
    }
   ],
   "source": [
    "import math\n",
    "nilai_max = data[['Penjualan A (pcs)']].max()\n",
    "nilai_min = data[['Penjualan A (pcs)']].min()\n",
    "range = nilai_max - nilai_min\n",
    "\n",
    "banyak_kelas = 1 + 3.3 * math.log (range)\n",
    "banyak_kelas = math.ceil(banyak_kelas)\n",
    "\n",
    "panjang_kelas = len(data[['Penjualan A (pcs)']]) / banyak_kelas\n",
    "panjang_kelas = math.ceil(panjang_kelas)\n",
    "\n",
    "x,y,temp = plt.hist(data[['Penjualan A (pcs)']],bins = int(panjang_kelas), color='white')\n",
    "mid=0.5*(y[1:]+y[:-1])\n",
    "plt.plot(mid,x,'.-')\n",
    "print(mid)\n",
    "plt.ylabel(\"Frekuensi\")\n",
    "plt.xlabel(\"Penjualan A (pcs)\")"
   ]
  },
  {
   "cell_type": "markdown",
   "id": "881e48d6-f4e7-4590-b019-bab61307ac41",
   "metadata": {},
   "source": [
    "### C. Penjualan B (pcs)"
   ]
  },
  {
   "cell_type": "code",
   "execution_count": 102,
   "id": "1491bc2a-e914-4949-abef-5be9257e0eaf",
   "metadata": {},
   "outputs": [
    {
     "name": "stdout",
     "output_type": "stream",
     "text": [
      "[ 45.41666667 136.25       227.08333333 317.91666667 408.75\n",
      " 499.58333333]\n"
     ]
    },
    {
     "name": "stderr",
     "output_type": "stream",
     "text": [
      "C:\\Users\\jofan\\AppData\\Local\\Temp\\ipykernel_17292\\1055709256.py:6: FutureWarning: Calling float on a single element Series is deprecated and will raise a TypeError in the future. Use float(ser.iloc[0]) instead\n",
      "  banyak_kelas = 1 + 3.3 * math.log (range)\n"
     ]
    },
    {
     "data": {
      "text/plain": [
       "Text(0.5, 0, 'Penjualan B (pcs)')"
      ]
     },
     "execution_count": 102,
     "metadata": {},
     "output_type": "execute_result"
    },
    {
     "data": {
      "image/png": "[encoded data removed]",
      "text/plain": [
       "<Figure size 640x480 with 1 Axes>"
      ]
     },
     "metadata": {},
     "output_type": "display_data"
    }
   ],
   "source": [
    "import math\n",
    "nilai_max = data[['Penjualan B (pcs)']].max()\n",
    "nilai_min = data[['Penjualan B (pcs)']].min()\n",
    "range = nilai_max - nilai_min\n",
    "\n",
    "banyak_kelas = 1 + 3.3 * math.log (range)\n",
    "banyak_kelas = math.ceil(banyak_kelas)\n",
    "\n",
    "panjang_kelas = len(data[['Penjualan B (pcs)']]) / banyak_kelas\n",
    "panjang_kelas = math.ceil(panjang_kelas)\n",
    "\n",
    "x,y,temp = plt.hist(data[['Penjualan B (pcs)']],bins = int(panjang_kelas), color='white')\n",
    "mid=0.5*(y[1:]+y[:-1])\n",
    "plt.plot(mid,x,'.-')\n",
    "print(mid)\n",
    "plt.ylabel(\"Frekuensi\")\n",
    "plt.xlabel(\"Penjualan B (pcs)\")"
   ]
  },
  {
   "cell_type": "markdown",
   "id": "71627728-cf53-49b5-9382-7febd041cd8f",
   "metadata": {},
   "source": [
    "## Kesimpulan"
   ]
  },
  {
   "cell_type": "markdown",
   "id": "007d123c-ead7-44cd-bca9-07871e9f14ff",
   "metadata": {},
   "source": [
    "Kesimpulan yang dapat diambil sebagai berikut:\n",
    "1. Rata-rata, range, IQR, standar deviasi, dan varian data penjualan B selama satu bulan delapan hari lebih besar daripada data penjualan A. Hal ini menunjukkan bahwa data penjualan B per hari jumlahnya lebih beragam dibandingkan data penjualan A.\n",
    "2. Angka yang paling sering muncul dalam data penjualan A dan B selama satu bulan delapan hari adalah 0 pcs, dengan rata-rata curah hujan selama satu bulan delapan hari 0 mm. Artinya lebih sering tidak terjadi penjualan dalam satu bulan.\n",
    "3. Skewness (kemencengan) penjualan A lebih besar daripada skewness penjualan B, yang artinya distribusi penjualan A memiliki asimetri yang lebih kuat dibandingkan penjualan B. \n",
    "4. Kurtosis data penjualan A dan B bernilai negatif yang mana kurang dari 3, maka distribusi disebut platikurtik, dengan puncak yang lebih rata dan ekor yang lebih ringan (outliers sedikit)."
   ]
  }
 ],
 "metadata": {
  "kernelspec": {
   "display_name": "Python 3 (ipykernel)",
   "language": "python",
   "name": "python3"
  },
  "language_info": {
   "codemirror_mode": {
    "name": "ipython",
    "version": 3
   },
   "file_extension": ".py",
   "mimetype": "text/x-python",
   "name": "python",
   "nbconvert_exporter": "python",
   "pygments_lexer": "ipython3",
   "version": "3.12.4"
  }
 },
 "nbformat": 4,
 "nbformat_minor": 5
}
